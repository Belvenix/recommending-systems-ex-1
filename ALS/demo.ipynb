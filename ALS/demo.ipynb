{
 "cells": [
  {
   "cell_type": "markdown",
   "metadata": {},
   "source": [
    "# Wymagane biblioteki"
   ]
  },
  {
   "cell_type": "code",
   "execution_count": 13,
   "metadata": {},
   "outputs": [],
   "source": [
    "import numpy as np # linear algebra\n",
    "import pandas as pd # data processing, CSV file I/O (e.g. pd.read_csv)\n",
    "\n",
    "import matplotlib.pyplot as plt\n",
    "import pandas as pd\n",
    "import scipy.sparse as sparse\n",
    "import numpy as np\n",
    "from scipy.sparse.linalg import spsolve\n",
    "from tqdm.notebook import tqdm_notebook as tqdm\n",
    "import random\n",
    "import implicit\n"
   ]
  },
  {
   "cell_type": "markdown",
   "metadata": {},
   "source": [
    "# Przygotowanie danych\n",
    "\n",
    "## Wczytywanie danych i ich wstepna obrobka\n",
    "\n",
    "## Obróbka danych pod model ALS\n",
    "\n",
    "Ze zbioru zostały usuniete gry, których suma godzin była mniejsza lub równa 10. Spowodowane było to błędami programistycznymi.\n",
    "\n",
    "## Osobna miara\n",
    "Jako, że sama liczba godzin nie jest w pełni miarodajna co do oceny gry, został zastosowany podział dystrybucji godzin każdej z gier na kwintyle (5 częsci)."
   ]
  },
  {
   "cell_type": "code",
   "execution_count": 18,
   "metadata": {},
   "outputs": [],
   "source": [
    "def prepare_data():\n",
    "    steam_raw = pd.read_csv(\"steam-200k.csv\", header=None, names=[\"User_ID\", \"Game\", \"Interaction\", \"Hours\", \"Ignore\"])\n",
    "    steam = steam_raw.drop(\"Ignore\", axis =1)\n",
    "    steam_purchase = steam[steam['Interaction'] == \"purchase\"]\n",
    "    steam_play = steam[steam['Interaction'] == \"play\"]\n",
    "    steam_pp = pd.merge(steam_purchase, steam_play, how = 'left', left_on = ['User_ID', 'Game'], right_on = ['User_ID', 'Game'])\n",
    "    steam_pp['Hours_y'] = steam_pp['Hours_y'].fillna(0)\n",
    "    steam_clean = steam_pp.drop(['Interaction_x', 'Interaction_y', 'Hours_x'], axis = 1)\n",
    "    steam_clean_rare = steam_clean.groupby('Game').filter(lambda x : len(x) > 10)\n",
    "    steam_clean_rare['quartile_rating'] = steam_clean_rare.groupby(['Game'])['Hours_y'].rank(pct=True).transform(\n",
    "        lambda x: pd.qcut(x, 5, labels=range(1,6), duplicates='drop')\n",
    "    )\n",
    "    return steam_clean_rare\n",
    "steam = prepare_data()"
   ]
  },
  {
   "cell_type": "markdown",
   "metadata": {},
   "source": [
    "# Preprocessing"
   ]
  },
  {
   "cell_type": "markdown",
   "metadata": {},
   "source": [
    "## Rzadka macierz\n",
    "W tej sekcji dane są obrabiane w taki sposób, zeby były zgodne z rzadką macierzą ocen gier."
   ]
  },
  {
   "cell_type": "code",
   "execution_count": 40,
   "metadata": {},
   "outputs": [],
   "source": [
    "class ALS_model:\n",
    "    \n",
    "    def __init__(self, data):\n",
    "        # Create lists of all users, artists and plays\n",
    "        users_n = len(list(np.sort(data.User_ID.unique())))\n",
    "        games_n = len(list(np.sort(data.Game.unique())))\n",
    "        plays = list(data.quartile_rating)\n",
    "\n",
    "        # Get the rows and columns for our new matrix\n",
    "        users = pd.factorize(data.User_ID.astype('category'))[0]\n",
    "        games = pd.factorize(data.Game.astype('category'))[0]\n",
    "\n",
    "        # Contruct a sparse matrix for our users and items containing number of plays\n",
    "        data_sparse = sparse.csr_matrix((plays, (users, games)), shape=(users_n, games_n))\n",
    "        ul = {r : u for r, u in zip(list(dict.fromkeys(users)), data.User_ID.unique())}\n",
    "        ulr = {u : r for r, u in zip(list(dict.fromkeys(users)), data.User_ID.unique())}\n",
    "        gl = {c : g for c, g in zip(list(dict.fromkeys(games)), data.Game.unique())}\n",
    "        glr = {g : c for c, g in zip(list(dict.fromkeys(games)), data.Game.unique())}\n",
    "\n",
    "        data_sparse, ul, ulr, gl, glr\n",
    "\n",
    "        # users-games\n",
    "        self.data_sparse = data_sparse\n",
    "        self.ul = ul\n",
    "        self.ulr = ulr\n",
    "        self.gl = gl\n",
    "        self.glr = glr\n",
    "        self.model = None\n",
    "\n",
    "    def fit(self, factors=20, regularization=0.1, iterations=50, alpha=40):\n",
    "        self.model = implicit.als.AlternatingLeastSquares(factors = factors, regularization = regularization, iterations = iterations)\n",
    "        # for training we need to flip it and scale with alpha per paper recommendations\n",
    "        alpha_val = 40\n",
    "        data_conf = (self.data_sparse.T * alpha_val).astype('double')\n",
    "        self.model.fit(data_conf)\n",
    "\n",
    "    def check_validity(self):\n",
    "        matrix_size = self.data_sparse.shape[0]  *self.data_sparse.shape[1] # Number of possible interactions in the matrix\n",
    "        num_purchases = len(self.data_sparse.nonzero()[0]) # Number of items interacted with\n",
    "        sparsity = 100 * (1 - (num_purchases/matrix_size))\n",
    "        return sparsity <= 0.995\n",
    "\n",
    "    def recommmend(self, user_tag):\n",
    "        if self.model is None:\n",
    "            raise Exception('You need to train first')\n",
    "        user_id = self.ulr[user_tag]\n",
    "        encoded_recommendations_with_confidence = self.model.recommend(user_id, self.data_sparse)\n",
    "        encoded_recommendations = [recommendation for recommendation, _ in encoded_recommendations_with_confidence]\n",
    "        decoded_recommendations = []\n",
    "        for er in encoded_recommendations:\n",
    "            decoded_recommendations.append(self.gl[er])\n",
    "        return decoded_recommendations\n",
    "\n",
    "    def similar_items(self, item_name, n_similar = 10):\n",
    "        item_id = self.glr[item_name]\n",
    "        return self.model.similar_items(item_id, n_similar)"
   ]
  },
  {
   "cell_type": "markdown",
   "metadata": {},
   "source": [
    "# Training and evaluating"
   ]
  },
  {
   "cell_type": "code",
   "execution_count": 41,
   "metadata": {},
   "outputs": [
    {
     "name": "stderr",
     "output_type": "stream",
     "text": [
      "100%|██████████| 50/50 [00:09<00:00,  5.17it/s]\n"
     ]
    }
   ],
   "source": [
    "model = ALS_model(steam)\n",
    "model.fit()"
   ]
  },
  {
   "cell_type": "code",
   "execution_count": 42,
   "metadata": {},
   "outputs": [
    {
     "name": "stdout",
     "output_type": "stream",
     "text": [
      "['Terraria', 'Team Fortress 2', 'Star Wars - Battlefront II', \"Garry's Mod\", 'Portal 2', 'Unturned', 'Counter-Strike Source', 'Alien Swarm', 'Goat Simulator', 'Game Dev Tycoon']\n",
      "['Warhammer 40,000 Dawn of War II', 'Warhammer 40,000 Dawn of War II - Chaos Rising', 'Warhammer 40,000 Dawn of War II  Retribution', 'Aliens vs. Predator', 'Supreme Commander 2', 'Age of Empires II HD The Forgotten', 'RollerCoaster Tycoon 3 Platinum!', 'Titan Quest Immortal Throne', 'Age of Empires II HD Edition', 'Titan Quest']\n",
      "[\"Sid Meier's Civilization V\", 'City of Steam Arkadia', 'Prime World', 'Ascend Hand of Kul', 'Blacklight Retribution', 'Solstice Arena', 'Ragnarok', 'Lost Saga North America', 'Haunted Memories', 'Kings Bounty Legions']\n",
      "['Ultra Street Fighter IV', 'Alien Isolation', 'BRINK', 'DmC Devil May Cry', 'Worms Revolution', 'Dead Island', 'South Park The Stick of Truth', 'Mark of the Ninja', 'Dying Light', 'Trine 2']\n",
      "['This War of Mine', 'FINAL FANTASY VIII', 'Magic 2014 ', 'Darkest Dungeon', 'Dungeon Defenders', \"Sid Meier's Civilization Beyond Earth\", 'XCOM Enemy Within', \"Baldur's Gate Enhanced Edition\", 'DARK SOULS II Scholar of the First Sin', 'Middle-earth Shadow of Mordor']\n",
      "['AdVenture Capitalist', 'Battlefield Bad Company 2', 'Hitman Absolution', 'Insurgency', 'PAYDAY The Heist', 'H1Z1 Test Server', \"Mirror's Edge\", 'PAYDAY 2', 'Counter-Strike Source', 'Mafia II']\n",
      "['SMITE', 'Bloodline Champions', 'Space Engineers', 'Project Zomboid', 'World of Guns Gun Disassembly', 'Stronghold Kingdoms', '7 Days to Die', 'XCOM Enemy Within', 'XCOM Enemy Unknown', 'Kerbal Space Program']\n",
      "[\"Tom Clancy's Ghost Recon Phantoms - NA\", 'Awesomenauts', 'Serious Sam HD The Second Encounter', 'Serious Sam 3 BFE', 'Natural Selection 2', 'Path of Exile', 'RIFT', 'BattleBlock Theater', 'Realm of the Mad God', 'Torchlight II']\n",
      "['DC Universe Online', 'Mare Nostrum', \"Darkest Hour Europe '44-'45\", 'Insurgency Modern Infantry Combat', 'Red Orchestra Ostfront 41-45', 'Free to Play', 'Ultra Street Fighter IV', 'Infestation Survivor Stories', 'Contagion', 'Bionic Commando Rearmed']\n",
      "['Robocraft', 'Team Fortress 2', 'Archeblade', 'Marvel Heroes 2015', 'Nosgoth', 'Firefall', 'Guns and Robots', 'Loadout', 'AirMech', 'Gotham City Impostors Free To Play']\n"
     ]
    }
   ],
   "source": [
    "validation_user_tags = [63276972, 107948398, 248444377,25096601, 65958466, 90711776, 186452037, 90033155, 50818751, 142999522]\n",
    "for tag in validation_user_tags:\n",
    "    print(model.recommmend(tag))"
   ]
  }
 ],
 "metadata": {
  "interpreter": {
   "hash": "952c4c9a9940b7b8ba52e9407257e40a9844d6d008e7b62edf5dae4316352f8a"
  },
  "kernelspec": {
   "display_name": "Python 3.8.8 64-bit ('steam': venv)",
   "name": "python3"
  },
  "language_info": {
   "codemirror_mode": {
    "name": "ipython",
    "version": 3
   },
   "file_extension": ".py",
   "mimetype": "text/x-python",
   "name": "python",
   "nbconvert_exporter": "python",
   "pygments_lexer": "ipython3",
   "version": "3.8.8"
  },
  "orig_nbformat": 4
 },
 "nbformat": 4,
 "nbformat_minor": 2
}
