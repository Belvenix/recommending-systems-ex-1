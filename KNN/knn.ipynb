{
 "cells": [
  {
   "cell_type": "markdown",
   "id": "subjective-planner",
   "metadata": {},
   "source": [
    "# Implementacja rekomendacji przy użyciu K-nearest neighbours classification\n",
    "Kod oparty na implementacji z platformy kaggle https://www.kaggle.com/kellyfuruya/steam-game-recommendations/notebook"
   ]
  },
  {
   "cell_type": "code",
   "execution_count": 6,
   "id": "modular-roots",
   "metadata": {},
   "outputs": [],
   "source": [
    "import pandas as pd\n",
    "import numpy as np\n",
    "from scipy.sparse import csr_matrix\n",
    "import sklearn\n",
    "from sklearn.decomposition import TruncatedSVD\n",
    "import math\n",
    "import statistics as st\n",
    "import operator"
   ]
  },
  {
   "cell_type": "code",
   "execution_count": 7,
   "id": "crude-cutting",
   "metadata": {},
   "outputs": [],
   "source": [
    "data = pd.read_csv('steam-200k.csv/steam-200k.csv', header=None, names=[\"User_ID\", \"Game\", \"Interaction\", \"Hours\", \"Ignore\"])"
   ]
  },
  {
   "cell_type": "code",
   "execution_count": 8,
   "id": "found-rebecca",
   "metadata": {},
   "outputs": [
    {
     "data": {
      "text/html": [
       "<div>\n",
       "<style scoped>\n",
       "    .dataframe tbody tr th:only-of-type {\n",
       "        vertical-align: middle;\n",
       "    }\n",
       "\n",
       "    .dataframe tbody tr th {\n",
       "        vertical-align: top;\n",
       "    }\n",
       "\n",
       "    .dataframe thead th {\n",
       "        text-align: right;\n",
       "    }\n",
       "</style>\n",
       "<table border=\"1\" class=\"dataframe\">\n",
       "  <thead>\n",
       "    <tr style=\"text-align: right;\">\n",
       "      <th></th>\n",
       "      <th>User_ID</th>\n",
       "      <th>Game</th>\n",
       "      <th>Interaction</th>\n",
       "      <th>Hours</th>\n",
       "      <th>Ignore</th>\n",
       "    </tr>\n",
       "  </thead>\n",
       "  <tbody>\n",
       "    <tr>\n",
       "      <th>0</th>\n",
       "      <td>151603712</td>\n",
       "      <td>The Elder Scrolls V Skyrim</td>\n",
       "      <td>purchase</td>\n",
       "      <td>1.0</td>\n",
       "      <td>0</td>\n",
       "    </tr>\n",
       "    <tr>\n",
       "      <th>1</th>\n",
       "      <td>151603712</td>\n",
       "      <td>The Elder Scrolls V Skyrim</td>\n",
       "      <td>play</td>\n",
       "      <td>273.0</td>\n",
       "      <td>0</td>\n",
       "    </tr>\n",
       "    <tr>\n",
       "      <th>2</th>\n",
       "      <td>151603712</td>\n",
       "      <td>Fallout 4</td>\n",
       "      <td>purchase</td>\n",
       "      <td>1.0</td>\n",
       "      <td>0</td>\n",
       "    </tr>\n",
       "    <tr>\n",
       "      <th>3</th>\n",
       "      <td>151603712</td>\n",
       "      <td>Fallout 4</td>\n",
       "      <td>play</td>\n",
       "      <td>87.0</td>\n",
       "      <td>0</td>\n",
       "    </tr>\n",
       "    <tr>\n",
       "      <th>4</th>\n",
       "      <td>151603712</td>\n",
       "      <td>Spore</td>\n",
       "      <td>purchase</td>\n",
       "      <td>1.0</td>\n",
       "      <td>0</td>\n",
       "    </tr>\n",
       "  </tbody>\n",
       "</table>\n",
       "</div>"
      ],
      "text/plain": [
       "     User_ID                        Game Interaction  Hours  Ignore\n",
       "0  151603712  The Elder Scrolls V Skyrim    purchase    1.0       0\n",
       "1  151603712  The Elder Scrolls V Skyrim        play  273.0       0\n",
       "2  151603712                   Fallout 4    purchase    1.0       0\n",
       "3  151603712                   Fallout 4        play   87.0       0\n",
       "4  151603712                       Spore    purchase    1.0       0"
      ]
     },
     "execution_count": 8,
     "metadata": {},
     "output_type": "execute_result"
    }
   ],
   "source": [
    "data.head()"
   ]
  },
  {
   "cell_type": "code",
   "execution_count": 9,
   "id": "unnecessary-bidder",
   "metadata": {},
   "outputs": [],
   "source": [
    "data.head()\n",
    "steam_raw = data.drop(\"Ignore\", axis =1)\n",
    "steam1 = steam_raw"
   ]
  },
  {
   "cell_type": "code",
   "execution_count": 10,
   "id": "dressed-intention",
   "metadata": {},
   "outputs": [
    {
     "name": "stdout",
     "output_type": "stream",
     "text": [
      "<class 'pandas.core.frame.DataFrame'>\n",
      "Int64Index: 129535 entries, 0 to 129534\n",
      "Data columns (total 3 columns):\n",
      " #   Column   Non-Null Count   Dtype  \n",
      "---  ------   --------------   -----  \n",
      " 0   User_ID  129535 non-null  int64  \n",
      " 1   Game     129535 non-null  object \n",
      " 2   Hours_y  129535 non-null  float64\n",
      "dtypes: float64(1), int64(1), object(1)\n",
      "memory usage: 4.0+ MB\n"
     ]
    }
   ],
   "source": [
    "steam1 = steam_raw[steam_raw['Interaction'] == \"purchase\"]\n",
    "steam2 = steam_raw[steam_raw['Interaction'] == \"play\"]\n",
    "    steam3 = pd.merge(steam1, steam2, how = 'left', left_on = ['User_ID', 'Game'], right_on = ['User_ID', 'Game'])\n",
    "steam3['Hours_y'] = steam3['Hours_y'].fillna(0)\n",
    "\n",
    "#put it all into a clean table\n",
    "steam_clean = steam3.drop(['Interaction_x', 'Interaction_y', 'Hours_x'], axis = 1)\n",
    "steam_clean.head()\n",
    "steam_clean.info()"
   ]
  },
  {
   "cell_type": "code",
   "execution_count": 11,
   "id": "neural-carolina",
   "metadata": {},
   "outputs": [],
   "source": [
    "#user_hours is a list of all the hours that each user put into the game we are calculating the frequency for\n",
    "#hours_i is the hours for that specific user for the game\n",
    "def frequency(hours_i, user_hours):\n",
    "    if user_hours == 0:\n",
    "        return 0\n",
    "    elif hours_i == user_hours:\n",
    "        return 1\n",
    "    return hours_i/(user_hours - hours_i)\n",
    "\n",
    "#frequency_list is the list of all the frequencies between the user k and the top user\n",
    "#frequency is the calculated frequency for that user\n",
    "def rating(frequency_sum):\n",
    "    return 4*(1-frequency_sum)+1"
   ]
  },
  {
   "cell_type": "code",
   "execution_count": 13,
   "id": "charged-gathering",
   "metadata": {},
   "outputs": [],
   "source": [
    "#first we need to create a table with all of the games and the total hours put into each\n",
    "game_hours = steam_clean.groupby(['Game'])['Hours_y'].sum().reset_index()\n",
    "\n",
    "#now we can use this information in the frequency function\n",
    "steam_clean2 = steam_clean\n",
    "steam_length = int(len(steam_clean2.index))\n",
    "i = 0\n",
    "steam_clean2['Frequency'] = np.nan\n",
    "for i in range(0, steam_length):\n",
    "    hours_i = steam_clean2.iloc[i][2]\n",
    "    user_hours = game_hours[game_hours['Game'] == steam_clean2.iloc[i][1]].iloc[0][1] #- steam_clean2.iloc[i][2]\n",
    "    steam_clean2.at[i, 'Frequency'] = frequency(hours_i, user_hours)"
   ]
  },
  {
   "cell_type": "code",
   "execution_count": 14,
   "id": "sensitive-scratch",
   "metadata": {},
   "outputs": [
    {
     "name": "stdout",
     "output_type": "stream",
     "text": [
      "          User_ID                                               Game  Hours_y  \\\n",
      "0       159800136                                   theHunter Primal     71.0   \n",
      "1        62878249                                   theHunter Primal      9.4   \n",
      "2       207424334                                   theHunter Primal      4.6   \n",
      "3       157080495                                   theHunter Primal      0.9   \n",
      "4        43913966                                          theHunter     95.0   \n",
      "...           ...                                                ...      ...   \n",
      "129530   35701646  1... 2... 3... KICK IT! (Drop That Beat Like a...      0.0   \n",
      "129531   11940338                                          0RBITALIS      0.6   \n",
      "129532   86055705                                          0RBITALIS      0.3   \n",
      "129533   93030550                                          0RBITALIS      0.3   \n",
      "129534   46055854                                        007 Legends      0.7   \n",
      "\n",
      "        Frequency  Rating  \n",
      "0        4.765101     NaN  \n",
      "1        0.122876     NaN  \n",
      "2        0.056581     NaN  \n",
      "3        0.010588     NaN  \n",
      "4        0.443511     NaN  \n",
      "...           ...     ...  \n",
      "129530   0.000000     NaN  \n",
      "129531   1.000000     NaN  \n",
      "129532   0.333333     NaN  \n",
      "129533   0.333333     NaN  \n",
      "129534   1.000000     NaN  \n",
      "\n",
      "[129535 rows x 5 columns]\n"
     ]
    }
   ],
   "source": [
    "steam_clean3 = steam_clean2\n",
    "\n",
    "steam_clean3['Rating'] = np.nan\n",
    "steam_clean3.sort_values(by = ['Game', 'Frequency'], inplace = True, ascending = False, ignore_index = True)\n",
    "print(steam_clean3)"
   ]
  },
  {
   "cell_type": "code",
   "execution_count": 15,
   "id": "military-accused",
   "metadata": {},
   "outputs": [],
   "source": [
    "store = \"\" #flag to see if we have moved on to a new game\n",
    "sum_f = 0 #running frequency sum\n",
    "last_f = 0 #flag to see if there are mutliple users with the same frequency\n",
    "last_r = 0 #if multiple users with same frequency, want to give same rating\n",
    "\n",
    "for i in range(0, steam_length): #go through the entire dataframe\n",
    "    temp = steam_clean3.iloc[i][1] #find out which game we are one\n",
    "    f_i = steam_clean3.iloc[i][3] #find out the frequency for that game and user    \n",
    "    \n",
    "    if temp != store: #if it's the first time we are going over the game\n",
    "        store = temp #indicate we are now on a new game and save it's name\n",
    "        if f_i == 0.0: #if there are no hours for the game\n",
    "            sum_f = 0 #reset running sum\n",
    "            last_f = 0 #reset last frequency\n",
    "            last_r = 1 #set last rating\n",
    "            steam_clean3.at[i, 'Rating'] = 1  #if there are no hours, give it the lowest rating\n",
    "        else: #if there are hours for the game, must be the top user\n",
    "            sum_f = f_i #first time on this game so sum is the frequency\n",
    "            last_f = f_i #set last frequency\n",
    "            last_r = 5 #set last rating\n",
    "            steam_clean3.at[i, 'Rating'] = 5 #return the highest rating b/c top user\n",
    "        \n",
    "    else: #it's not the first time on this game\n",
    "        if f_i == 0: #multiple users have zero hours\n",
    "            last_r = 1 #set last rating \n",
    "            steam_clean3.at[i, 'Rating'] = 1 #return lowest score; don't need to reset anything\n",
    "        elif last_f == f_i: #if there are multiple users with the same frequency\n",
    "            sum_f += f_i #add to running sum\n",
    "            steam_clean3.at[i, 'Rating'] = last_r #return last rating\n",
    "        else:\n",
    "            rating_f = rating(sum_f)  #calculate the rating\n",
    "            sum_f += f_i #update the sum\n",
    "            last_f = f_i #update the last frequency\n",
    "            last_r = rating_f #update the last rating\n",
    "            steam_clean3.at[i, 'Rating'] = rating_f"
   ]
  },
  {
   "cell_type": "code",
   "execution_count": 16,
   "id": "attempted-sentence",
   "metadata": {},
   "outputs": [
    {
     "name": "stdout",
     "output_type": "stream",
     "text": [
      "          User_ID                          Game  Hours_y     Frequency  \\\n",
      "0            5250                   Alien Swarm      4.9  3.266449e-03   \n",
      "1            5250               Cities Skylines    144.0  4.710192e-02   \n",
      "6            5250      Deus Ex Human Revolution     62.0  1.758666e-02   \n",
      "7            5250                        Dota 2      0.2  2.037315e-07   \n",
      "17           5250                      Portal 2     13.6  1.493931e-03   \n",
      "...           ...                           ...      ...           ...   \n",
      "129528  309434439                        Dota 2      0.8  8.149264e-07   \n",
      "129529  309554670             Mitos.is The Game      5.9  2.987342e-02   \n",
      "129530  309626088  Age of Empires II HD Edition      6.7  9.778452e-04   \n",
      "129533  309824202                        Dota 2      0.7  7.130605e-07   \n",
      "129534  309903146                        Dota 2      0.2  2.037315e-07   \n",
      "\n",
      "          Rating  \n",
      "0       1.765477  \n",
      "1       4.609080  \n",
      "6       3.214684  \n",
      "7       0.992064  \n",
      "17      1.681515  \n",
      "...          ...  \n",
      "129528  0.993570  \n",
      "129529  2.890873  \n",
      "129530  0.994629  \n",
      "129533  0.993267  \n",
      "129534  0.992064  \n",
      "\n",
      "[70760 rows x 5 columns]\n"
     ]
    }
   ],
   "source": [
    "steam_clean4 = steam_clean3\n",
    "steam_clean4.sort_values(by = ['User_ID', 'Game'], inplace = True, ignore_index = True)\n",
    "#remove the games with no hours played\n",
    "steam_clean4 = steam_clean4[steam_clean4['Rating'] != 1]\n",
    "print(steam_clean4)"
   ]
  },
  {
   "cell_type": "code",
   "execution_count": 17,
   "id": "necessary-suffering",
   "metadata": {},
   "outputs": [],
   "source": [
    "#distance function; takes array q and p and calculates modified euclidean distance\n",
    "def distance(q, p):\n",
    "    total = 0\n",
    "    for i in range(0, len(q)):\n",
    "        total += (q[i]-p[i])**2\n",
    "#    print(total)\n",
    "    return math.sqrt(total)/len(q)\n",
    "\n",
    "#find the k nearest neighbors\n",
    "def neighbors(df, k_neighbors, user):\n",
    "    distances = []\n",
    "    #subset of the original table that contains only the rows for specific user\n",
    "    user_games = df[df['User_ID'] == user]\n",
    "    #subset of the original table minus the rows for specific user\n",
    "    df_subset = df[df['User_ID'] != user]\n",
    "    #temporary list to hold the ratings for the specific user\n",
    "    user_temp = []\n",
    "    #temporary list to hold the ratings for the user we are currently indexed on\n",
    "    temp = []\n",
    "    #flag to see if we have moved on to a new user id\n",
    "    temp_id = 0\n",
    "    #iterate through the entire subset\n",
    "    for index, row in df_subset.iterrows():\n",
    "        #if the game at that particual row is a game that the specific user has\n",
    "        if row['Game'] in set(user_games['Game']):\n",
    "            #if it is, check to see if we are on a new user or not\n",
    "            if row['User_ID'] == temp_id:\n",
    "                #if not, add the rating to the temp list\n",
    "                temp.append(row['Rating'])\n",
    "                #also add the rating to the user temp list\n",
    "                user_temp.append(user_games.loc[user_games['Game'] == row['Game'], 'Rating'].iloc[0])\n",
    "            #if it's the first time running the loop; set temp_id, add temp_id, game, and ratings\n",
    "            #but do not calculate distance\n",
    "            elif temp_id == 0:\n",
    "                temp_id = row['User_ID']\n",
    "                temp.append(row['Rating'])\n",
    "                user_temp.append(user_games.loc[user_games['Game'] == row['Game'], 'Rating'].iloc[0])\n",
    "            #not the first time running the loop\n",
    "            #new user\n",
    "            else:\n",
    "                #calculate distance for previous user\n",
    "                dist = distance(user_temp, temp)\n",
    "                #add that to distances along with the id\n",
    "                distances.append((temp_id, dist))\n",
    "                #set the flag to the new id\n",
    "                temp_id = row['User_ID']\n",
    "                #reset temp and user_temp\n",
    "                temp = []\n",
    "                temp.append(row['Rating'])\n",
    "                user_temp = []\n",
    "                user_temp.append(user_games.loc[user_games['Game'] == row['Game'], 'Rating'].iloc[0])\n",
    "    #once we finish for loop, sort distances so smallest are first\n",
    "    distances.sort(key=operator.itemgetter(1))\n",
    "    neighbor_list =[]\n",
    "    #insert neighbors into the list, smallest distance first up to the kth neighbor\n",
    "    for i in range(k_neighbors):\n",
    "        neighbor_list.append(distances[i])\n",
    "    #return the list of k neighbors\n",
    "    return neighbor_list\n",
    "        \n",
    "#recommend games based on the neighbors' ratings\n",
    "def recommend(user, neighbor_list, df):\n",
    "    #which games the user already has\n",
    "    user_games = df[df['User_ID'] == user]\n",
    "    dissim_games = []\n",
    "    #go through all the neighbors\n",
    "    for neighbor in neighbor_list:\n",
    "        #make a temporary table containing all of the games that the neighbor has but the user does not\n",
    "        temp = df[(df['User_ID'] == neighbor[0]) & (~df['Game'].isin(user_games['Game']))]\n",
    "        #loop through the games in temp\n",
    "        for index, game in temp.iterrows():\n",
    "            #add the game and its rating to the dissimilar games list\n",
    "            dissim_games.append((game['Game'], game['Rating']))\n",
    "    #sort the dissimilar games list by the game name\n",
    "    dissim_games.sort(key=operator.itemgetter(0))\n",
    "    #flag to see if moved on to a new game\n",
    "    flag = \"\"\n",
    "    #running sum of all the ratings\n",
    "    running_sum = 0\n",
    "    #list we will add the recomendations to\n",
    "    rec_list = []\n",
    "    #count of how many times the game was in dissim_games\n",
    "    count = 0\n",
    "    #loop through all of the games\n",
    "    for dis in dissim_games:\n",
    "        #if it's the first time the game has come up in the loop\n",
    "        if flag != dis[0]:\n",
    "            #if it's not the first time the loop has run\n",
    "            #if it was then we do not want to append anything\n",
    "            if flag != \"\":\n",
    "                #append the last game name and the average rating\n",
    "                rec_list.append((flag, running_sum/count))\n",
    "            #set the flag to the new gae\n",
    "            flag = dis[0]\n",
    "            #set the running sum to the current rating\n",
    "            running_sum = dis[1]\n",
    "            #reset the counter\n",
    "            count = 1\n",
    "        #multiple ratings for the same game\n",
    "        else:\n",
    "            #add the current rating to the running sum\n",
    "            running_sum += dis[1]\n",
    "            #increment the counter\n",
    "            count += 1\n",
    "    #sort the list of recommended games with the highest rating first\n",
    "    sort_list = sorted(rec_list, key=operator.itemgetter(1), reverse = True)\n",
    "    return(sort_list)\n",
    "        \n",
    "def rec_games(rec_tuple):\n",
    "    games = []\n",
    "    for pair in rec_tuple:\n",
    "        games.append(pair[0])\n",
    "    return games"
   ]
  },
  {
   "cell_type": "code",
   "execution_count": 18,
   "id": "sweet-weekly",
   "metadata": {},
   "outputs": [
    {
     "name": "stdout",
     "output_type": "stream",
     "text": [
      "[(7249363, 0.0), (30425578, 0.0), (41124938, 0.0), (58893462, 0.0), (68532738, 0.0)]\n"
     ]
    }
   ],
   "source": [
    "test_neighbors = neighbors(steam_clean4, 5, 5250)\n",
    "print(test_neighbors)"
   ]
  },
  {
   "cell_type": "code",
   "execution_count": 19,
   "id": "regulated-colorado",
   "metadata": {},
   "outputs": [
    {
     "name": "stdout",
     "output_type": "stream",
     "text": [
      "['Dust An Elysian Tail', 'Hotline Miami', 'METAL SLUG 3', 'METAL SLUG X', 'Septerra Core', 'Borderlands 2', 'Mark of the Ninja', 'Half-Life Opposing Force', 'Burnout Paradise The Ultimate Box', 'Resident Evil 6 / Biohazard 6', 'Half-Life Blue Shift', 'Monaco', 'Darksiders', 'METAL GEAR RISING REVENGEANCE', 'Castle Crashers', 'Borderlands', 'Bastion', 'Skullgirls', 'SpeedRunners', 'Devil May Cry 3 Special Edition', 'Half-Life', \"Mirror's Edge\", 'DmC Devil May Cry', 'FEZ', 'Counter-Strike', 'Borderlands The Pre-Sequel', 'Saints Row The Third', 'Team Fortress 2', 'Dead Island', 'The Walking Dead', 'BioShock', 'Devil May Cry 4', 'Crysis 2 Maximum Edition', 'Gun Monkeys', \"Don't Starve\", 'Audiosurf', 'Sniper Ghost Warrior', 'Magic 2014 ', 'Awesomenauts', 'Mercenary Kings', 'FINAL FANTASY VIII', \"Tom Clancy's Ghost Recon Phantoms - NA\", 'Spec Ops The Line', 'Dragon Nest']\n"
     ]
    }
   ],
   "source": [
    "recs = recommend(159800136, test_neighbors, steam_clean4)\n",
    "recommended_games = rec_games(recs)\n",
    "print(recommended_games)"
   ]
  },
  {
   "cell_type": "code",
   "execution_count": 20,
   "id": "coral-intellectual",
   "metadata": {},
   "outputs": [],
   "source": [
    "def knn(user, k_neighbors, df):\n",
    "    knearest = neighbors(df, k_neighbors, user)\n",
    "    rec_list = recommend(user, knearest, df)\n",
    "    #games = rec_games(rec_list)\n",
    "    if len(rec_list) > 10:\n",
    "        rec_list = rec_list[:10]\n",
    "    games = rec_list\n",
    "    return games"
   ]
  },
  {
   "cell_type": "code",
   "execution_count": 21,
   "id": "burning-valve",
   "metadata": {},
   "outputs": [
    {
     "data": {
      "text/html": [
       "<div>\n",
       "<style scoped>\n",
       "    .dataframe tbody tr th:only-of-type {\n",
       "        vertical-align: middle;\n",
       "    }\n",
       "\n",
       "    .dataframe tbody tr th {\n",
       "        vertical-align: top;\n",
       "    }\n",
       "\n",
       "    .dataframe thead th {\n",
       "        text-align: right;\n",
       "    }\n",
       "</style>\n",
       "<table border=\"1\" class=\"dataframe\">\n",
       "  <thead>\n",
       "    <tr style=\"text-align: right;\">\n",
       "      <th></th>\n",
       "      <th>User_ID</th>\n",
       "      <th>Game</th>\n",
       "      <th>Hours_y</th>\n",
       "      <th>Frequency</th>\n",
       "      <th>Rating</th>\n",
       "    </tr>\n",
       "  </thead>\n",
       "  <tbody>\n",
       "    <tr>\n",
       "      <th>0</th>\n",
       "      <td>5250</td>\n",
       "      <td>Alien Swarm</td>\n",
       "      <td>4.9</td>\n",
       "      <td>3.266449e-03</td>\n",
       "      <td>1.765477</td>\n",
       "    </tr>\n",
       "    <tr>\n",
       "      <th>1</th>\n",
       "      <td>5250</td>\n",
       "      <td>Cities Skylines</td>\n",
       "      <td>144.0</td>\n",
       "      <td>4.710192e-02</td>\n",
       "      <td>4.609080</td>\n",
       "    </tr>\n",
       "    <tr>\n",
       "      <th>6</th>\n",
       "      <td>5250</td>\n",
       "      <td>Deus Ex Human Revolution</td>\n",
       "      <td>62.0</td>\n",
       "      <td>1.758666e-02</td>\n",
       "      <td>3.214684</td>\n",
       "    </tr>\n",
       "    <tr>\n",
       "      <th>7</th>\n",
       "      <td>5250</td>\n",
       "      <td>Dota 2</td>\n",
       "      <td>0.2</td>\n",
       "      <td>2.037315e-07</td>\n",
       "      <td>0.992064</td>\n",
       "    </tr>\n",
       "    <tr>\n",
       "      <th>17</th>\n",
       "      <td>5250</td>\n",
       "      <td>Portal 2</td>\n",
       "      <td>13.6</td>\n",
       "      <td>1.493931e-03</td>\n",
       "      <td>1.681515</td>\n",
       "    </tr>\n",
       "  </tbody>\n",
       "</table>\n",
       "</div>"
      ],
      "text/plain": [
       "    User_ID                      Game  Hours_y     Frequency    Rating\n",
       "0      5250               Alien Swarm      4.9  3.266449e-03  1.765477\n",
       "1      5250           Cities Skylines    144.0  4.710192e-02  4.609080\n",
       "6      5250  Deus Ex Human Revolution     62.0  1.758666e-02  3.214684\n",
       "7      5250                    Dota 2      0.2  2.037315e-07  0.992064\n",
       "17     5250                  Portal 2     13.6  1.493931e-03  1.681515"
      ]
     },
     "execution_count": 21,
     "metadata": {},
     "output_type": "execute_result"
    }
   ],
   "source": [
    "steam_clean4.head()"
   ]
  },
  {
   "cell_type": "code",
   "execution_count": 22,
   "id": "blind-flashing",
   "metadata": {},
   "outputs": [],
   "source": [
    "unique_users = steam_clean4['User_ID'].unique()"
   ]
  },
  {
   "cell_type": "code",
   "execution_count": 23,
   "id": "overall-message",
   "metadata": {},
   "outputs": [],
   "source": [
    "final_final_preds = pd.DataFrame(unique_users, columns=['user_id'])"
   ]
  },
  {
   "cell_type": "code",
   "execution_count": 26,
   "id": "smooth-local",
   "metadata": {},
   "outputs": [],
   "source": [
    "#final_final_preds['preds_10'] = final_final_preds['user_id'].apply(lambda row: knn(row,1,steam_clean4))"
   ]
  },
  {
   "cell_type": "code",
   "execution_count": null,
   "id": "explicit-subdivision",
   "metadata": {},
   "outputs": [],
   "source": [
    "final_final_preds['preds_10'][0]"
   ]
  },
  {
   "cell_type": "code",
   "execution_count": 44,
   "id": "architectural-cosmetic",
   "metadata": {},
   "outputs": [],
   "source": [
    "\n",
    "def generate_recomendations(list_ids:list,data, k_nn=5)->list:\n",
    "    results = []\n",
    "    for elem in list_ids:\n",
    "        print(1)\n",
    "        temp = knn(elem, k_nn, data)\n",
    "        results.append(temp)\n",
    "    return results\n"
   ]
  },
  {
   "cell_type": "code",
   "execution_count": 45,
   "id": "intellectual-austria",
   "metadata": {},
   "outputs": [
    {
     "name": "stdout",
     "output_type": "stream",
     "text": [
      "1\n",
      "1\n",
      "1\n",
      "1\n",
      "1\n",
      "1\n",
      "1\n",
      "1\n",
      "1\n",
      "1\n"
     ]
    }
   ],
   "source": [
    "list_id = [63276972,107948398,248444377,25096601,65958466,90711776,186452037,90033155,50818751,142999522]\n",
    "result = generate_recomendations(list_id,steam_clean4, 3)"
   ]
  },
  {
   "cell_type": "code",
   "execution_count": 46,
   "id": "robust-festival",
   "metadata": {},
   "outputs": [
    {
     "data": {
      "text/plain": [
       "[[('Infestation Survivor Stories', 5.0),\n",
       "  ('Counter-Strike', 3.662658897531197),\n",
       "  ('Counter-Strike Global Offensive', 2.5496623238155647),\n",
       "  ('Ori and the Blind Forest', 1.857745834734756),\n",
       "  ('Age of Mythology Extended Edition', 1.3330201358807412)],\n",
       " [('Caribbean!', 5.0),\n",
       "  ('Clockwork Empires', 5.0),\n",
       "  ('Expeditions Conquistador', 5.0),\n",
       "  ('Life is Feudal Your Own', 5.0),\n",
       "  ('Sir, You Are Being Hunted', 5.0)],\n",
       " [('4 Elements', 5.0),\n",
       "  ('Noir Syndrome', 5.0),\n",
       "  ('Redshirt', 5.0),\n",
       "  ('Renowned Explorers International Society', 5.0),\n",
       "  ('Reverse Crawl', 5.0)],\n",
       " [('Company of Heroes 2', 2.950891134596457)],\n",
       " [('Half-Life 2 Lost Coast', 2.1522604594130175),\n",
       "  ('Half-Life 2 Deathmatch', -0.14961316945891046)],\n",
       " [('Portal', 2.151686883166593),\n",
       "  ('Terraria', 2.126887501222568),\n",
       "  ('FINAL FANTASY VII', 2.0413196515435046),\n",
       "  ('Half-Life 2 Lost Coast', 1.8908225509162886),\n",
       "  ('Starbound', 1.817636516302937)],\n",
       " [('3DMark 11', 5.0),\n",
       "  ('Age of Wonders', 5.0),\n",
       "  ('Arma 2 Private Military Company', 5.0),\n",
       "  ('Artemis Spaceship Bridge Simulator', 5.0),\n",
       "  ('BloodLust Shadowhunter', 5.0)],\n",
       " [('Darksiders', 3.620285771823482),\n",
       "  ('The Witcher 2 Assassins of Kings Enhanced Edition', 3.1954158477047923),\n",
       "  ('Company of Heroes 2', 2.134811513352099),\n",
       "  ('Warframe', 1.1519371868178072),\n",
       "  ('Call of Duty Modern Warfare 2 - Multiplayer', 0.9532381818033668)],\n",
       " [('Half-Life 2 Lost Coast', 2.9357358363768657)],\n",
       " [('Team Fortress 2', 1.184309194731967),\n",
       "  ('Left 4 Dead 2', 0.9710112188336408),\n",
       "  ('DC Universe Online', 0.42907239098265926)]]"
      ]
     },
     "execution_count": 46,
     "metadata": {},
     "output_type": "execute_result"
    }
   ],
   "source": [
    "result"
   ]
  },
  {
   "cell_type": "code",
   "execution_count": 50,
   "id": "residential-hospital",
   "metadata": {},
   "outputs": [
    {
     "data": {
      "text/plain": [
       "{63276972: ['Infestation Survivor Stories',\n",
       "  'Counter-Strike',\n",
       "  'Counter-Strike Global Offensive',\n",
       "  'Ori and the Blind Forest',\n",
       "  'Age of Mythology Extended Edition'],\n",
       " 107948398: ['Caribbean!',\n",
       "  'Clockwork Empires',\n",
       "  'Expeditions Conquistador',\n",
       "  'Life is Feudal Your Own',\n",
       "  'Sir, You Are Being Hunted'],\n",
       " 248444377: ['4 Elements',\n",
       "  'Noir Syndrome',\n",
       "  'Redshirt',\n",
       "  'Renowned Explorers International Society',\n",
       "  'Reverse Crawl'],\n",
       " 25096601: ['Company of Heroes 2'],\n",
       " 65958466: ['Half-Life 2 Lost Coast', 'Half-Life 2 Deathmatch'],\n",
       " 90711776: ['Portal',\n",
       "  'Terraria',\n",
       "  'FINAL FANTASY VII',\n",
       "  'Half-Life 2 Lost Coast',\n",
       "  'Starbound'],\n",
       " 186452037: ['3DMark 11',\n",
       "  'Age of Wonders',\n",
       "  'Arma 2 Private Military Company',\n",
       "  'Artemis Spaceship Bridge Simulator',\n",
       "  'BloodLust Shadowhunter'],\n",
       " 90033155: ['Darksiders',\n",
       "  'The Witcher 2 Assassins of Kings Enhanced Edition',\n",
       "  'Company of Heroes 2',\n",
       "  'Warframe',\n",
       "  'Call of Duty Modern Warfare 2 - Multiplayer'],\n",
       " 50818751: ['Half-Life 2 Lost Coast'],\n",
       " 142999522: ['Team Fortress 2', 'Left 4 Dead 2', 'DC Universe Online']}"
      ]
     },
     "execution_count": 50,
     "metadata": {},
     "output_type": "execute_result"
    }
   ],
   "source": [
    "only_games = {}\n",
    "\n",
    "for index,user in enumerate(result):\n",
    "    for games in user:\n",
    "        if list_id[index] not in only_games:\n",
    "            only_games[list_id[index]]= [games[0]]\n",
    "        else:\n",
    "            only_games[list_id[index]].append(games[0])\n",
    "            \n",
    "only_games"
   ]
  },
  {
   "cell_type": "code",
   "execution_count": null,
   "id": "emerging-discovery",
   "metadata": {},
   "outputs": [],
   "source": []
  }
 ],
 "metadata": {
  "kernelspec": {
   "display_name": "Python 3",
   "language": "python",
   "name": "python3"
  },
  "language_info": {
   "codemirror_mode": {
    "name": "ipython",
    "version": 3
   },
   "file_extension": ".py",
   "mimetype": "text/x-python",
   "name": "python",
   "nbconvert_exporter": "python",
   "pygments_lexer": "ipython3",
   "version": "3.7.10"
  }
 },
 "nbformat": 4,
 "nbformat_minor": 5
}
