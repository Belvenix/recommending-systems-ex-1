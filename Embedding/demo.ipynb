{
 "cells": [
  {
   "cell_type": "markdown",
   "metadata": {},
   "source": [
    "# Wymagane biblioteki"
   ]
  },
  {
   "cell_type": "code",
   "execution_count": 3,
   "metadata": {},
   "outputs": [],
   "source": [
    "import numpy as np # linear algebra\n",
    "import pandas as pd # data processing, CSV file I/O (e.g. pd.read_csv)\n",
    "\n",
    "import matplotlib.pyplot as plt\n",
    "import pandas as pd\n",
    "import scipy.sparse as sparse\n",
    "import numpy as np\n",
    "\n",
    "from tqdm.notebook import tqdm_notebook as tqdm\n",
    "\n",
    "from gensim.models import Word2Vec\n"
   ]
  },
  {
   "cell_type": "markdown",
   "metadata": {},
   "source": [
    "# Przygotowanie danych\n",
    "\n",
    "## Wczytywanie danych i ich wstepna obrobka\n",
    "\n",
    "## Obróbka danych pod model ALS\n",
    "\n",
    "Ze zbioru zostały usuniete gry, których suma godzin była mniejsza lub równa 10. Spowodowane było to błędami programistycznymi.\n",
    "\n",
    "## Osobna miara\n",
    "Jako, że sama liczba godzin nie jest w pełni miarodajna co do oceny gry, został zastosowany podział dystrybucji godzin każdej z gier na kwintyle (5 częsci)."
   ]
  },
  {
   "cell_type": "code",
   "execution_count": 23,
   "metadata": {},
   "outputs": [
    {
     "data": {
      "text/html": [
       "<div>\n",
       "<style scoped>\n",
       "    .dataframe tbody tr th:only-of-type {\n",
       "        vertical-align: middle;\n",
       "    }\n",
       "\n",
       "    .dataframe tbody tr th {\n",
       "        vertical-align: top;\n",
       "    }\n",
       "\n",
       "    .dataframe thead th {\n",
       "        text-align: right;\n",
       "    }\n",
       "</style>\n",
       "<table border=\"1\" class=\"dataframe\">\n",
       "  <thead>\n",
       "    <tr style=\"text-align: right;\">\n",
       "      <th></th>\n",
       "      <th>User_ID</th>\n",
       "      <th>Game</th>\n",
       "      <th>Interaction</th>\n",
       "      <th>Hours</th>\n",
       "      <th>Ignore</th>\n",
       "    </tr>\n",
       "  </thead>\n",
       "  <tbody>\n",
       "    <tr>\n",
       "      <th>0</th>\n",
       "      <td>151603712</td>\n",
       "      <td>The Elder Scrolls V Skyrim</td>\n",
       "      <td>purchase</td>\n",
       "      <td>1.0</td>\n",
       "      <td>0</td>\n",
       "    </tr>\n",
       "    <tr>\n",
       "      <th>1</th>\n",
       "      <td>151603712</td>\n",
       "      <td>The Elder Scrolls V Skyrim</td>\n",
       "      <td>play</td>\n",
       "      <td>273.0</td>\n",
       "      <td>0</td>\n",
       "    </tr>\n",
       "    <tr>\n",
       "      <th>2</th>\n",
       "      <td>151603712</td>\n",
       "      <td>Fallout 4</td>\n",
       "      <td>purchase</td>\n",
       "      <td>1.0</td>\n",
       "      <td>0</td>\n",
       "    </tr>\n",
       "    <tr>\n",
       "      <th>3</th>\n",
       "      <td>151603712</td>\n",
       "      <td>Fallout 4</td>\n",
       "      <td>play</td>\n",
       "      <td>87.0</td>\n",
       "      <td>0</td>\n",
       "    </tr>\n",
       "    <tr>\n",
       "      <th>4</th>\n",
       "      <td>151603712</td>\n",
       "      <td>Spore</td>\n",
       "      <td>purchase</td>\n",
       "      <td>1.0</td>\n",
       "      <td>0</td>\n",
       "    </tr>\n",
       "    <tr>\n",
       "      <th>...</th>\n",
       "      <td>...</td>\n",
       "      <td>...</td>\n",
       "      <td>...</td>\n",
       "      <td>...</td>\n",
       "      <td>...</td>\n",
       "    </tr>\n",
       "    <tr>\n",
       "      <th>199995</th>\n",
       "      <td>128470551</td>\n",
       "      <td>Titan Souls</td>\n",
       "      <td>play</td>\n",
       "      <td>1.5</td>\n",
       "      <td>0</td>\n",
       "    </tr>\n",
       "    <tr>\n",
       "      <th>199996</th>\n",
       "      <td>128470551</td>\n",
       "      <td>Grand Theft Auto Vice City</td>\n",
       "      <td>purchase</td>\n",
       "      <td>1.0</td>\n",
       "      <td>0</td>\n",
       "    </tr>\n",
       "    <tr>\n",
       "      <th>199997</th>\n",
       "      <td>128470551</td>\n",
       "      <td>Grand Theft Auto Vice City</td>\n",
       "      <td>play</td>\n",
       "      <td>1.5</td>\n",
       "      <td>0</td>\n",
       "    </tr>\n",
       "    <tr>\n",
       "      <th>199998</th>\n",
       "      <td>128470551</td>\n",
       "      <td>RUSH</td>\n",
       "      <td>purchase</td>\n",
       "      <td>1.0</td>\n",
       "      <td>0</td>\n",
       "    </tr>\n",
       "    <tr>\n",
       "      <th>199999</th>\n",
       "      <td>128470551</td>\n",
       "      <td>RUSH</td>\n",
       "      <td>play</td>\n",
       "      <td>1.4</td>\n",
       "      <td>0</td>\n",
       "    </tr>\n",
       "  </tbody>\n",
       "</table>\n",
       "<p>200000 rows × 5 columns</p>\n",
       "</div>"
      ],
      "text/plain": [
       "          User_ID                        Game Interaction  Hours  Ignore\n",
       "0       151603712  The Elder Scrolls V Skyrim    purchase    1.0       0\n",
       "1       151603712  The Elder Scrolls V Skyrim        play  273.0       0\n",
       "2       151603712                   Fallout 4    purchase    1.0       0\n",
       "3       151603712                   Fallout 4        play   87.0       0\n",
       "4       151603712                       Spore    purchase    1.0       0\n",
       "...           ...                         ...         ...    ...     ...\n",
       "199995  128470551                 Titan Souls        play    1.5       0\n",
       "199996  128470551  Grand Theft Auto Vice City    purchase    1.0       0\n",
       "199997  128470551  Grand Theft Auto Vice City        play    1.5       0\n",
       "199998  128470551                        RUSH    purchase    1.0       0\n",
       "199999  128470551                        RUSH        play    1.4       0\n",
       "\n",
       "[200000 rows x 5 columns]"
      ]
     },
     "execution_count": 23,
     "metadata": {},
     "output_type": "execute_result"
    }
   ],
   "source": [
    "steam_raw = pd.read_csv(\"steam-200k.csv\", header=None, names=[\"User_ID\", \"Game\", \"Interaction\", \"Hours\", \"Ignore\"])\n",
    "steam_raw"
   ]
  },
  {
   "cell_type": "code",
   "execution_count": 5,
   "metadata": {},
   "outputs": [],
   "source": [
    "def prepare_data():\n",
    "    steam_raw = pd.read_csv(\"steam-200k.csv\", header=None, names=[\"User_ID\", \"Game\", \"Interaction\", \"Hours\", \"Ignore\"])\n",
    "    steam = steam_raw.drop(\"Ignore\", axis =1)\n",
    "    steam_purchase = steam[steam['Interaction'] == \"purchase\"]\n",
    "    steam_play = steam[steam['Interaction'] == \"play\"]\n",
    "    steam_pp = pd.merge(steam_purchase, steam_play, how = 'left', left_on = ['User_ID', 'Game'], right_on = ['User_ID', 'Game'])\n",
    "    steam_pp['Hours_y'] = steam_pp['Hours_y'].fillna(0)\n",
    "    steam_clean = steam_pp.drop(['Interaction_x', 'Interaction_y', 'Hours_x'], axis = 1)\n",
    "    steam_clean_rare = steam_clean.groupby('Game').filter(lambda x : len(x) > 10)\n",
    "    steam_clean_rare['quartile_rating'] = steam_clean_rare.groupby(['Game'])['Hours_y'].rank(pct=True).transform(\n",
    "        lambda x: pd.qcut(x, 5, labels=range(1,6), duplicates='drop')\n",
    "    )\n",
    "    return steam_clean_rare\n",
    "steam = prepare_data()"
   ]
  },
  {
   "cell_type": "code",
   "execution_count": 102,
   "metadata": {},
   "outputs": [],
   "source": [
    "# from itertools import combinations, permutations\n",
    "# from random import choice, sample\n",
    "# list1 = steam.User_ID.unique()\n",
    "# list1 = list1.tolist()\n",
    "# probki = []\n",
    "# for i in range(10):\n",
    "#     probki.append(sample(list1, 10))\n",
    "# probki\n",
    "# with open('samples_2.txt', 'w') as f:\n",
    "#     for p in probki:\n",
    "#         f.write(', '.join(map(str, p)))\n",
    "#         f.write('\\n')\n",
    "        "
   ]
  },
  {
   "cell_type": "code",
   "execution_count": 237,
   "metadata": {},
   "outputs": [],
   "source": [
    "from typing import List\n",
    "class EmbeddingRecommender:\n",
    "    def __init__(self, data):\n",
    "        data_listed = data.groupby(\"User_ID\").agg({\"Game\": lambda x: list(x)})\n",
    "        sentences = data_listed.Game.to_list()\n",
    "        sentences\n",
    "\n",
    "        # users-games\n",
    "        self.sentences = sentences\n",
    "        self.data_listed = data_listed\n",
    "        self.model = None\n",
    "\n",
    "    def fit(self, window=5, min_count=5, workers=3, sg=0):\n",
    "        self.model = Word2Vec(self.sentences, window=window, min_count=min_count, workers=workers, sg=sg)\n",
    "\n",
    "    def recommmend(self, user_tag, n_similar = 10) -> List:\n",
    "        if self.model is None:\n",
    "            raise Exception('You need to train first')\n",
    "        played_games = self.data_listed.loc[user_tag].to_list()\n",
    "        games = {}\n",
    "        for game in played_games[0]:\n",
    "            similar = self.similar_items(game, n_similar)\n",
    "            for item in similar:\n",
    "                if item not in played_games[0]:\n",
    "                    if item[0] not in games:\n",
    "                        games[item[0]] = (item[1], 1)\n",
    "                    else:\n",
    "                        games[item[0]] = (games[item[0]][0] + item[1], games[item[0]][1] + 1)\n",
    "        for name, (quality, n) in games.items():\n",
    "            games[name] = quality / n\n",
    "        best_games = sorted(games.items(), key=lambda x: x[1], reverse=True)[:n_similar]\n",
    "        xd = [g[0] for g in best_games]\n",
    "        return xd\n",
    "\n",
    "    def similar_items(self, item_name, n_similar = 10):\n",
    "        if self.model is None:\n",
    "            raise Exception('You need to train first')\n",
    "        return self.model.wv.most_similar(item_name, topn=n_similar)"
   ]
  },
  {
   "cell_type": "code",
   "execution_count": null,
   "metadata": {},
   "outputs": [],
   "source": [
    "with open('samples.txt', 'r') as f:\n",
    "    lines = [line.strip() for line in f]\n",
    "\n",
    "users = []\n",
    "for line in lines:\n",
    "    users.append(line.split(', '))\n",
    "#users"
   ]
  },
  {
   "cell_type": "code",
   "execution_count": 206,
   "metadata": {},
   "outputs": [
    {
     "ename": "AttributeError",
     "evalue": "'list' object has no attribute 'loc'",
     "output_type": "error",
     "traceback": [
      "\u001b[1;31m---------------------------------------------------------------------------\u001b[0m",
      "\u001b[1;31mAttributeError\u001b[0m                            Traceback (most recent call last)",
      "\u001b[1;32m~\\AppData\\Local\\Temp/ipykernel_16692/4275312405.py\u001b[0m in \u001b[0;36m<module>\u001b[1;34m\u001b[0m\n\u001b[1;32m----> 1\u001b[1;33m \u001b[0mmodel\u001b[0m\u001b[1;33m.\u001b[0m\u001b[0msentences\u001b[0m\u001b[1;33m.\u001b[0m\u001b[0mloc\u001b[0m\u001b[1;33m[\u001b[0m\u001b[1;36m69434488\u001b[0m\u001b[1;33m]\u001b[0m\u001b[1;33m\u001b[0m\u001b[1;33m\u001b[0m\u001b[0m\n\u001b[0m",
      "\u001b[1;31mAttributeError\u001b[0m: 'list' object has no attribute 'loc'"
     ]
    }
   ],
   "source": []
  },
  {
   "cell_type": "code",
   "execution_count": 238,
   "metadata": {},
   "outputs": [],
   "source": [
    "model = EmbeddingRecommender(steam)\n",
    "model.fit(window=3, sg=0)\n"
   ]
  },
  {
   "cell_type": "code",
   "execution_count": 247,
   "metadata": {},
   "outputs": [],
   "source": [
    "results2 = []\n",
    "for sample in users:\n",
    "    przewidywania = {}\n",
    "    for user in sample:\n",
    "        przewidywania[int(user)] = model.recommmend(int(user))\n",
    "    #print(przewidywania)\n",
    "    results2.append(przewidywania)"
   ]
  },
  {
   "cell_type": "code",
   "execution_count": 246,
   "metadata": {},
   "outputs": [
    {
     "name": "stdout",
     "output_type": "stream",
     "text": [
      "[['Counter-Strike', 'Day of Defeat', 'Deathmatch Classic', 'Half-Life', 'Half-Life Blue Shift', 'Half-Life Opposing Force', 'Ricochet', 'Team Fortress Classic']]\n",
      "['Half-Life Deathmatch Source', 'Counter-Strike Condition Zero', 'Half-Life Source', 'Counter-Strike Condition Zero Deleted Scenes', 'Day of Defeat', 'Zombie Panic Source', 'Killing Floor Mod Defence Alliance 2', 'Dead Space', 'Counter-Strike Source', 'Darwinia']\n"
     ]
    }
   ],
   "source": [
    "print(model.data_listed.loc[8100868].to_list())\n",
    "for r in results2:\n",
    "    if '8100868' in r:\n",
    "        print(r['8100868'])"
   ]
  },
  {
   "cell_type": "code",
   "execution_count": 240,
   "metadata": {},
   "outputs": [],
   "source": [
    "with open('results2.txt', 'w') as f:\n",
    "    f.write('[')\n",
    "    f.write(\", \".join(map(str, results2)))\n",
    "    f.write(']')\n"
   ]
  },
  {
   "cell_type": "code",
   "execution_count": null,
   "metadata": {},
   "outputs": [],
   "source": []
  },
  {
   "cell_type": "code",
   "execution_count": 133,
   "metadata": {},
   "outputs": [
    {
     "name": "stdout",
     "output_type": "stream",
     "text": [
      "[('Dota 2', 0.9745949506759644), (\"Garry's Mod\", 0.972614049911499), ('DC Universe Online', 0.9693325757980347), ('Counter-Strike Global Offensive', 0.964198112487793), ('H1Z1', 0.9606828093528748), ('AdVenture Capitalist', 0.9390743374824524), ('Rust', 0.9366994500160217), ('PAYDAY 2', 0.9311463236808777), ('Clicker Heroes', 0.9282840490341187), ('Call of Duty World at War', 0.9264910817146301)]\n",
      "[('Dota 2', 0.9612736105918884), ('Ace of Spades', 0.9452863931655884), ('MapleStory', 0.9441447257995605), ('Serious Sam HD The Second Encounter', 0.9394935965538025), ('Infestation Survivor Stories', 0.9384415149688721), ('DC Universe Online', 0.9337234497070312), ('Counter-Strike Global Offensive', 0.9334918260574341), ('Geometry Dash', 0.9320390224456787), ('Echo of Soul', 0.931488573551178), ('Reign Of Kings', 0.9292135834693909)]\n"
     ]
    }
   ],
   "source": []
  },
  {
   "cell_type": "markdown",
   "metadata": {},
   "source": [
    "# Training and evaluating"
   ]
  }
 ],
 "metadata": {
  "interpreter": {
   "hash": "952c4c9a9940b7b8ba52e9407257e40a9844d6d008e7b62edf5dae4316352f8a"
  },
  "kernelspec": {
   "display_name": "Python 3.8.8 64-bit ('steam': venv)",
   "name": "python3"
  },
  "language_info": {
   "codemirror_mode": {
    "name": "ipython",
    "version": 3
   },
   "file_extension": ".py",
   "mimetype": "text/x-python",
   "name": "python",
   "nbconvert_exporter": "python",
   "pygments_lexer": "ipython3",
   "version": "3.8.8"
  },
  "orig_nbformat": 4
 },
 "nbformat": 4,
 "nbformat_minor": 2
}
