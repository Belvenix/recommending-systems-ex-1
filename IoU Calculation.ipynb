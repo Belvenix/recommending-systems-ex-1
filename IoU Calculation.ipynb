{
 "cells": [
  {
   "cell_type": "code",
   "execution_count": 6,
   "id": "374dc94f",
   "metadata": {},
   "outputs": [],
   "source": [
    "import numpy as np\n",
    "\n",
    "\n",
    "knn_results = {63276972: ['Infestation Survivor Stories',\n",
    "          'Counter-Strike',\n",
    "          'Counter-Strike Global Offensive',\n",
    "          'Ori and the Blind Forest',\n",
    "          'Age of Mythology Extended Edition'],\n",
    "     107948398: ['Caribbean!',\n",
    "          'Clockwork Empires',\n",
    "          'Expeditions Conquistador',\n",
    "          'Life is Feudal Your Own',\n",
    "          'Sir, You Are Being Hunted'],\n",
    "     248444377: ['4 Elements',\n",
    "          'Noir Syndrome',\n",
    "          'Redshirt',\n",
    "          'Renowned Explorers International Society',\n",
    "          'Reverse Crawl'],\n",
    "     25096601: ['Company of Heroes 2'],\n",
    "     65958466: ['Half-Life 2 Lost Coast', 'Half-Life 2 Deathmatch'],\n",
    "     90711776: ['Portal',\n",
    "          'Terraria',\n",
    "          'FINAL FANTASY VII',\n",
    "          'Half-Life 2 Lost Coast',\n",
    "          'Starbound'],\n",
    "     186452037: ['3DMark 11',\n",
    "          'Age of Wonders',\n",
    "          'Arma 2 Private Military Company',\n",
    "          'Artemis Spaceship Bridge Simulator',\n",
    "          'BloodLust Shadowhunter'],\n",
    "     90033155: ['Darksiders',\n",
    "          'The Witcher 2 Assassins of Kings Enhanced Edition',\n",
    "          'Company of Heroes 2',\n",
    "          'Warframe',\n",
    "          'Call of Duty Modern Warfare 2 - Multiplayer'],\n",
    "     50818751: ['Half-Life 2 Lost Coast'],\n",
    "     142999522: ['Team Fortress 2', 'Left 4 Dead 2', 'DC Universe Online']\n",
    "}\n",
    "\n",
    "collaborative_results = {\n",
    "    63276972: ['Terraria', 'Team Fortress 2', 'Star Wars - Battlefront II', \"Garry's Mod\", 'Portal 2', 'Unturned', 'Counter-Strike Source', 'Alien Swarm', 'Goat Simulator', 'Game Dev Tycoon'],\n",
    "    107948398: ['Warhammer 40,000 Dawn of War II', 'Warhammer 40,000 Dawn of War II - Chaos Rising', 'Warhammer 40,000 Dawn of War II  Retribution', 'Aliens vs. Predator', 'Supreme Commander 2', 'Age of Empires II HD The Forgotten', 'RollerCoaster Tycoon 3 Platinum!', 'Titan Quest Immortal Throne', 'Age of Empires II HD Edition', 'Titan Quest'],\n",
    "    248444377: [\"Sid Meier's Civilization V\", 'City of Steam Arkadia', 'Prime World', 'Ascend Hand of Kul', 'Blacklight Retribution', 'Solstice Arena', 'Ragnarok', 'Lost Saga North America', 'Haunted Memories', 'Kings Bounty Legions'],\n",
    "    25096601: ['Ultra Street Fighter IV', 'Alien Isolation', 'BRINK', 'DmC Devil May Cry', 'Worms Revolution', 'Dead Island', 'South Park The Stick of Truth', 'Mark of the Ninja', 'Dying Light', 'Trine 2'],\n",
    "    65958466: ['This War of Mine', 'FINAL FANTASY VIII', 'Magic 2014 ', 'Darkest Dungeon', 'Dungeon Defenders', \"Sid Meier's Civilization Beyond Earth\", 'XCOM Enemy Within', \"Baldur's Gate Enhanced Edition\", 'DARK SOULS II Scholar of the First Sin', 'Middle-earth Shadow of Mordor'],\n",
    "    90711776:['AdVenture Capitalist', 'Battlefield Bad Company 2', 'Hitman Absolution', 'Insurgency', 'PAYDAY The Heist', 'H1Z1 Test Server', \"Mirror's Edge\", 'PAYDAY 2', 'Counter-Strike Source', 'Mafia II'],\n",
    "    186452037: ['SMITE', 'Bloodline Champions', 'Space Engineers', 'Project Zomboid', 'World of Guns Gun Disassembly', 'Stronghold Kingdoms', '7 Days to Die', 'XCOM Enemy Within', 'XCOM Enemy Unknown', 'Kerbal Space Program'],\n",
    "    90033155: [\"Tom Clancy's Ghost Recon Phantoms - NA\", 'Awesomenauts', 'Serious Sam HD The Second Encounter', 'Serious Sam 3 BFE', 'Natural Selection 2', 'Path of Exile', 'RIFT', 'BattleBlock Theater', 'Realm of the Mad God', 'Torchlight II'],\n",
    "    50818751: ['DC Universe Online', 'Mare Nostrum', \"Darkest Hour Europe '44-'45\", 'Insurgency Modern Infantry Combat', 'Red Orchestra Ostfront 41-45', 'Free to Play', 'Ultra Street Fighter IV', 'Infestation Survivor Stories', 'Contagion', 'Bionic Commando Rearmed'],\n",
    "    142999522: ['Robocraft', 'Team Fortress 2', 'Archeblade', 'Marvel Heroes 2015', 'Nosgoth', 'Firefall', 'Guns and Robots', 'Loadout', 'AirMech', 'Gotham City Impostors Free To Play']\n",
    "}\n",
    "\n",
    "content_based_results = {63276972: ['Prison Test', 'MachiaVillain', 'Scanner Sombre', 'Prison Tycoon 3 Lockdown', 'Madness of the Architect', 'Prison Chainball Massacre', 'Prison Break RPG', '文字獄', 'Story of the Survivor : Prisoner', 'The Prison Game'], 107948398: ['Warhammer 40,000 Dawn of War II', 'Warhammer 40,000 Dawn of War  Soulstorm', 'Warhammer 40,000 Armageddon', 'Warhammer 40,000 Dawn of War II  Retribution', 'Warhammer 40,000 Regicide', 'Warhammer 40,000 Dawn of War II - Chaos Rising', 'Warhammer 40,000 Storm of Vengeance'], 248444377: ['The Banner Saga - Mod Content', \"Day One Garry's Incident\", 'Arma 2 DayZ Mod', 'Just Cause 2 Multiplayer Mod', 'Killing Floor Mod Defence Alliance 2', 'Brave', 'UNLOVED', 'No More Room in Hell', 'Just Cause™ 3: Multiplayer Mod'], 25096601: ['Dota 2 - Short Film Contest', 'Dota 2 - The International 2015 - Player Profiles', 'Witches, Heroes and Magic', 'Escape the Omnochronom!', 'Executive Assault', 'You Have 10 Seconds 2', 'Toadled', 'Where are my Internets?', 'This World Unknown'], 65958466: ['Dota 2 - Short Film Contest', 'Dota 2 - The International 2015 - Player Profiles', 'Witches, Heroes and Magic', 'Escape the Omnochronom!', 'Executive Assault', 'You Have 10 Seconds 2', 'Toadled', 'Where are my Internets?', 'This World Unknown'], 90711776: ['Chip', 'Ben 10', 'Cosmic Dust & Rust', 'Lop Nor Zombie VR (HTC Vive)', 'H.I.S.T.O.R.Y T.O.R.C.H.K.A', 'Hunted: One Step Too Far', 'Magical Otoge Ciel', 'Minimized', 'Sakura Space'], 186452037: ['Planetary Annihilation - Original Soundtrack', 'Planetary Annihilation - Digital Deluxe Bundle', 'Total Annihilation', 'Planetary Dustoff', 'Pandora: First Contact', 'Moonshot Galaxy™', 'Galaxy Annihilation', 'Xenochamber', 'Universe Balancing Bureau'], 90033155: ['Squarelands', 'WorldQuest', 'Craft The World', 'Executive Assault', 'Where are my Internets?', 'You Have 10 Seconds 2', 'The Mystery Of Woolley Mountain', 'This World Unknown', 'MAGICAL×SPIRAL', 'Sakura Space'], 50818751: ['FaceRig Team Fortress 2 Avatars DLC', 'Fortress Forever', 'Dota 2 - Short Film Contest', 'Avadon The Black Fortress', 'Two Worlds 2 - Pirates of the Flying Fortress ', 'Rescue Team 5', 'Roaming Fortress', 'Formicide', 'Ingnomia'], 142999522: ['Dota 2 - Short Film Contest', 'Dota 2 - The International 2015 - Player Profiles', 'Witches, Heroes and Magic', 'Escape the Omnochronom!', 'Executive Assault', 'You Have 10 Seconds 2', 'Toadled', 'Where are my Internets?', 'This World Unknown']}\n",
    "\n",
    "def reduce_to_5(a_set):\n",
    "    for p_id in a_set:\n",
    "        if len(a_set[p_id]) >= 5:\n",
    "            a_set[p_id] = a_set[p_id][0:5]\n",
    "        else:\n",
    "            a_set[p_id] = a_set[p_id][0:len(a_set[p_id])]\n",
    "    return a_set\n",
    "\n",
    "def calc_iou(a_set, b_set):\n",
    "    results = {}\n",
    "    for p_id in a_set:\n",
    "        s_a = set(a_set[p_id])\n",
    "        s_b = set(b_set[p_id])\n",
    "        results[p_id] = len(s_a.intersection(s_b)) / len(s_a.union(s_b))\n",
    "    return results"
   ]
  },
  {
   "cell_type": "code",
   "execution_count": 11,
   "id": "8b7ed912",
   "metadata": {},
   "outputs": [
    {
     "name": "stdout",
     "output_type": "stream",
     "text": [
      "0.014285714285714285\n",
      "0.025\n",
      "0.0\n"
     ]
    }
   ],
   "source": [
    "cut_knn = reduce_to_5(knn_results)\n",
    "cut_collaborative = reduce_to_5(collaborative_results)\n",
    "cut_content_based = reduce_to_5(content_based_results)\n",
    "\n",
    "print(np.array(list(calc_iou(cut_knn, cut_collaborative).values())).mean())\n",
    "print(np.array(list(calc_iou(cut_collaborative, cut_content_based).values())).mean())\n",
    "print(np.array(list(calc_iou(cut_content_based, cut_knn).values())).mean())"
   ]
  },
  {
   "cell_type": "code",
   "execution_count": null,
   "id": "66dc592f",
   "metadata": {},
   "outputs": [],
   "source": []
  },
  {
   "cell_type": "code",
   "execution_count": null,
   "id": "0da089a6",
   "metadata": {},
   "outputs": [],
   "source": []
  }
 ],
 "metadata": {
  "kernelspec": {
   "display_name": "Python 3 (ipykernel)",
   "language": "python",
   "name": "python3"
  },
  "language_info": {
   "codemirror_mode": {
    "name": "ipython",
    "version": 3
   },
   "file_extension": ".py",
   "mimetype": "text/x-python",
   "name": "python",
   "nbconvert_exporter": "python",
   "pygments_lexer": "ipython3",
   "version": "3.9.7"
  }
 },
 "nbformat": 4,
 "nbformat_minor": 5
}
